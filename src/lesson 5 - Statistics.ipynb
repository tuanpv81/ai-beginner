{
 "cells": [
  {
   "cell_type": "code",
   "execution_count": null,
   "metadata": {},
   "outputs": [],
   "source": [
    "def calculate_mean(numbers):\n",
    "    s = sum(numbers)\n",
    "    N = len(numbers)\n",
    "    mean = s / N\n",
    "    return mean\n",
    "\n",
    "# Tao mang\n",
    "donations = [100,60,70,900,100,200,500,503,600,1000,1200]\n",
    "mean_value = calculate_mean(donations)\n",
    "print('Trung binh so tien quyen gop la: ', mean_value)"
   ]
  },
  {
   "cell_type": "code",
   "execution_count": 6,
   "metadata": {
    "tags": []
   },
   "outputs": [],
   "source": [
    "# import lib\n",
    "import numpy as np\n",
    "import cv2\n",
    "\n",
    "# load image in grayscale mode\n",
    "image = cv2.imread('misscai.jpg', 0)\n",
    "\n",
    "# create kernel\n",
    "kernel = np.ones((3,3), np.float32) / 25.0\n",
    "#print(kernel)\n",
    "\n",
    "# compute mean for each pixel\n",
    "dst = cv2.filter2D(image, cv2.CV_8U, kernel)\n",
    "#print(image)\n",
    "#print(dst)\n",
    "\n",
    "# Show images\n",
    "cv2.imshow('image', image)\n",
    "cv2.imshow('dst', dst)\n",
    "\n",
    "# Waiting for any keys pressed and close windows\n",
    "cv2.waitKey(0)\n",
    "cv2.destroyAllWindows()\n"
   ]
  },
  {
   "cell_type": "code",
   "execution_count": null,
   "metadata": {},
   "outputs": [],
   "source": []
  },
  {
   "cell_type": "code",
   "execution_count": null,
   "metadata": {},
   "outputs": [],
   "source": []
  }
 ],
 "metadata": {
  "kernelspec": {
   "display_name": "Python 3",
   "language": "python",
   "name": "python3"
  },
  "language_info": {
   "codemirror_mode": {
    "name": "ipython",
    "version": 3
   },
   "file_extension": ".py",
   "mimetype": "text/x-python",
   "name": "python",
   "nbconvert_exporter": "python",
   "pygments_lexer": "ipython3",
   "version": "3.8.3-final"
  }
 },
 "nbformat": 4,
 "nbformat_minor": 4
}